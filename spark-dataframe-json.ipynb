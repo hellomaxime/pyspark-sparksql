{
 "cells": [
  {
   "cell_type": "code",
   "execution_count": 2,
   "id": "e273d1cc",
   "metadata": {},
   "outputs": [
    {
     "name": "stdout",
     "output_type": "stream",
     "text": [
      "running\n"
     ]
    }
   ],
   "source": [
    "import findspark\n",
    "from pyspark.sql import SparkSession\n",
    "from pyspark import SparkConf\n",
    "\n",
    "from pyspark.sql import *\n",
    "from pyspark.sql.functions import *\n",
    "from pyspark.sql.types import *\n",
    "\n",
    "findspark.init()\n",
    "\n",
    "def demarrer_spark():\n",
    "    local = \"local[*]\"\n",
    "    appName = \"dataframeJson\"\n",
    "    config = SparkConf().setAppName(appName).setMaster(local).\\\n",
    "    set(\"spark.executor.memory\", \"1G\").\\\n",
    "    set(\"spark.driver.memory\", \"1G\").\\\n",
    "    set(\"spark.sql.catalogImplementation\", \"in-memory\")\n",
    "    \n",
    "    spark = SparkSession.builder.config(conf = config).getOrCreate()\n",
    "    sc = spark.sparkContext\n",
    "    sc.setLogLevel(\"ERROR\")\n",
    "    \n",
    "    spark.conf.set(\"spark.sql.autoBroadcastJoinThreshold\", \"-1\")\n",
    "    \n",
    "    spark.conf.set(\"spark.sql.shuffle.partitions\", \"4\")\n",
    "    return spark\n",
    "\n",
    "spark = demarrer_spark()\n",
    "print(\"running\")"
   ]
  },
  {
   "cell_type": "markdown",
   "id": "1e169f69",
   "metadata": {},
   "source": [
    "hdfs dfs -mkdir -p /user/maxime  \n",
    "hdfs dfs -copyFromLocal vk_001.json /user/maxime"
   ]
  },
  {
   "cell_type": "code",
   "execution_count": 4,
   "id": "b378310c",
   "metadata": {
    "scrolled": true
   },
   "outputs": [
    {
     "name": "stderr",
     "output_type": "stream",
     "text": [
      "                                                                                \r"
     ]
    },
    {
     "data": {
      "text/plain": [
       "30683"
      ]
     },
     "execution_count": 4,
     "metadata": {},
     "output_type": "execute_result"
    }
   ],
   "source": [
    "data = spark.read.format(\"json\").load(\"vk_001.json\").distinct()\n",
    "data.count()"
   ]
  },
  {
   "cell_type": "code",
   "execution_count": 5,
   "id": "d687892e",
   "metadata": {},
   "outputs": [
    {
     "name": "stdout",
     "output_type": "stream",
     "text": [
      "root\n",
      " |-- _id: struct (nullable = true)\n",
      " |    |-- $oid: string (nullable = true)\n",
      " |-- code: long (nullable = true)\n",
      " |-- event: struct (nullable = true)\n",
      " |    |-- action: string (nullable = true)\n",
      " |    |-- attachments: array (nullable = true)\n",
      " |    |    |-- element: struct (containsNull = true)\n",
      " |    |    |    |-- album: struct (nullable = true)\n",
      " |    |    |    |    |-- created: long (nullable = true)\n",
      " |    |    |    |    |-- description: string (nullable = true)\n",
      " |    |    |    |    |-- id: string (nullable = true)\n",
      " |    |    |    |    |-- owner_id: long (nullable = true)\n",
      " |    |    |    |    |-- size: long (nullable = true)\n",
      " |    |    |    |    |-- thumb: struct (nullable = true)\n",
      " |    |    |    |    |    |-- access_key: string (nullable = true)\n",
      " |    |    |    |    |    |-- album_id: long (nullable = true)\n",
      " |    |    |    |    |    |-- date: long (nullable = true)\n",
      " |    |    |    |    |    |-- height: long (nullable = true)\n",
      " |    |    |    |    |    |-- id: long (nullable = true)\n",
      " |    |    |    |    |    |-- owner_id: long (nullable = true)\n",
      " |    |    |    |    |    |-- photo_1280: string (nullable = true)\n",
      " |    |    |    |    |    |-- photo_130: string (nullable = true)\n",
      " |    |    |    |    |    |-- photo_2560: string (nullable = true)\n",
      " |    |    |    |    |    |-- photo_604: string (nullable = true)\n",
      " |    |    |    |    |    |-- photo_75: string (nullable = true)\n",
      " |    |    |    |    |    |-- photo_807: string (nullable = true)\n",
      " |    |    |    |    |    |-- text: string (nullable = true)\n",
      " |    |    |    |    |    |-- user_id: long (nullable = true)\n",
      " |    |    |    |    |    |-- width: long (nullable = true)\n",
      " |    |    |    |    |-- title: string (nullable = true)\n",
      " |    |    |    |    |-- updated: long (nullable = true)\n",
      " |    |    |    |-- audio: struct (nullable = true)\n",
      " |    |    |    |    |-- album_id: long (nullable = true)\n",
      " |    |    |    |    |-- artist: string (nullable = true)\n",
      " |    |    |    |    |-- content_restricted: long (nullable = true)\n",
      " |    |    |    |    |-- date: long (nullable = true)\n",
      " |    |    |    |    |-- duration: long (nullable = true)\n",
      " |    |    |    |    |-- genre_id: long (nullable = true)\n",
      " |    |    |    |    |-- id: long (nullable = true)\n",
      " |    |    |    |    |-- lyrics_id: long (nullable = true)\n",
      " |    |    |    |    |-- no_search: long (nullable = true)\n",
      " |    |    |    |    |-- owner_id: long (nullable = true)\n",
      " |    |    |    |    |-- title: string (nullable = true)\n",
      " |    |    |    |    |-- url: string (nullable = true)\n",
      " |    |    |    |-- doc: struct (nullable = true)\n",
      " |    |    |    |    |-- access_key: string (nullable = true)\n",
      " |    |    |    |    |-- date: long (nullable = true)\n",
      " |    |    |    |    |-- ext: string (nullable = true)\n",
      " |    |    |    |    |-- id: long (nullable = true)\n",
      " |    |    |    |    |-- owner_id: long (nullable = true)\n",
      " |    |    |    |    |-- preview: struct (nullable = true)\n",
      " |    |    |    |    |    |-- photo: struct (nullable = true)\n",
      " |    |    |    |    |    |    |-- sizes: array (nullable = true)\n",
      " |    |    |    |    |    |    |    |-- element: struct (containsNull = true)\n",
      " |    |    |    |    |    |    |    |    |-- height: long (nullable = true)\n",
      " |    |    |    |    |    |    |    |    |-- src: string (nullable = true)\n",
      " |    |    |    |    |    |    |    |    |-- type: string (nullable = true)\n",
      " |    |    |    |    |    |    |    |    |-- width: long (nullable = true)\n",
      " |    |    |    |    |    |-- video: struct (nullable = true)\n",
      " |    |    |    |    |    |    |-- file_size: long (nullable = true)\n",
      " |    |    |    |    |    |    |-- height: long (nullable = true)\n",
      " |    |    |    |    |    |    |-- src: string (nullable = true)\n",
      " |    |    |    |    |    |    |-- width: long (nullable = true)\n",
      " |    |    |    |    |-- size: long (nullable = true)\n",
      " |    |    |    |    |-- title: string (nullable = true)\n",
      " |    |    |    |    |-- type: long (nullable = true)\n",
      " |    |    |    |    |-- url: string (nullable = true)\n",
      " |    |    |    |-- link: struct (nullable = true)\n",
      " |    |    |    |    |-- button: struct (nullable = true)\n",
      " |    |    |    |    |    |-- title: string (nullable = true)\n",
      " |    |    |    |    |    |-- url: string (nullable = true)\n",
      " |    |    |    |    |-- button_action: string (nullable = true)\n",
      " |    |    |    |    |-- button_text: string (nullable = true)\n",
      " |    |    |    |    |-- caption: string (nullable = true)\n",
      " |    |    |    |    |-- description: string (nullable = true)\n",
      " |    |    |    |    |-- is_external: long (nullable = true)\n",
      " |    |    |    |    |-- photo: struct (nullable = true)\n",
      " |    |    |    |    |    |-- album_id: long (nullable = true)\n",
      " |    |    |    |    |    |-- date: long (nullable = true)\n",
      " |    |    |    |    |    |-- height: long (nullable = true)\n",
      " |    |    |    |    |    |-- id: long (nullable = true)\n",
      " |    |    |    |    |    |-- lat: double (nullable = true)\n",
      " |    |    |    |    |    |-- long: double (nullable = true)\n",
      " |    |    |    |    |    |-- owner_id: long (nullable = true)\n",
      " |    |    |    |    |    |-- photo_1280: string (nullable = true)\n",
      " |    |    |    |    |    |-- photo_130: string (nullable = true)\n",
      " |    |    |    |    |    |-- photo_2560: string (nullable = true)\n",
      " |    |    |    |    |    |-- photo_604: string (nullable = true)\n",
      " |    |    |    |    |    |-- photo_75: string (nullable = true)\n",
      " |    |    |    |    |    |-- photo_807: string (nullable = true)\n",
      " |    |    |    |    |    |-- text: string (nullable = true)\n",
      " |    |    |    |    |    |-- user_id: long (nullable = true)\n",
      " |    |    |    |    |    |-- width: long (nullable = true)\n",
      " |    |    |    |    |-- preview_page: string (nullable = true)\n",
      " |    |    |    |    |-- preview_url: string (nullable = true)\n",
      " |    |    |    |    |-- target: string (nullable = true)\n",
      " |    |    |    |    |-- title: string (nullable = true)\n",
      " |    |    |    |    |-- url: string (nullable = true)\n",
      " |    |    |    |-- note: struct (nullable = true)\n",
      " |    |    |    |    |-- comments: long (nullable = true)\n",
      " |    |    |    |    |-- date: long (nullable = true)\n",
      " |    |    |    |    |-- id: long (nullable = true)\n",
      " |    |    |    |    |-- owner_id: long (nullable = true)\n",
      " |    |    |    |    |-- read_comments: long (nullable = true)\n",
      " |    |    |    |    |-- title: string (nullable = true)\n",
      " |    |    |    |    |-- view_url: string (nullable = true)\n",
      " |    |    |    |-- page: struct (nullable = true)\n",
      " |    |    |    |    |-- created: long (nullable = true)\n",
      " |    |    |    |    |-- creator_id: long (nullable = true)\n",
      " |    |    |    |    |-- current_user_can_edit: long (nullable = true)\n",
      " |    |    |    |    |-- current_user_can_edit_access: long (nullable = true)\n",
      " |    |    |    |    |-- edited: long (nullable = true)\n",
      " |    |    |    |    |-- editor_id: long (nullable = true)\n",
      " |    |    |    |    |-- group_id: long (nullable = true)\n",
      " |    |    |    |    |-- id: long (nullable = true)\n",
      " |    |    |    |    |-- title: string (nullable = true)\n",
      " |    |    |    |    |-- view_url: string (nullable = true)\n",
      " |    |    |    |    |-- views: long (nullable = true)\n",
      " |    |    |    |    |-- who_can_edit: long (nullable = true)\n",
      " |    |    |    |    |-- who_can_view: long (nullable = true)\n",
      " |    |    |    |-- photo: struct (nullable = true)\n",
      " |    |    |    |    |-- access_key: string (nullable = true)\n",
      " |    |    |    |    |-- album_id: long (nullable = true)\n",
      " |    |    |    |    |-- date: long (nullable = true)\n",
      " |    |    |    |    |-- height: long (nullable = true)\n",
      " |    |    |    |    |-- id: long (nullable = true)\n",
      " |    |    |    |    |-- lat: double (nullable = true)\n",
      " |    |    |    |    |-- long: double (nullable = true)\n",
      " |    |    |    |    |-- owner_id: long (nullable = true)\n",
      " |    |    |    |    |-- photo_1280: string (nullable = true)\n",
      " |    |    |    |    |-- photo_130: string (nullable = true)\n",
      " |    |    |    |    |-- photo_2560: string (nullable = true)\n",
      " |    |    |    |    |-- photo_604: string (nullable = true)\n",
      " |    |    |    |    |-- photo_75: string (nullable = true)\n",
      " |    |    |    |    |-- photo_807: string (nullable = true)\n",
      " |    |    |    |    |-- post_id: long (nullable = true)\n",
      " |    |    |    |    |-- text: string (nullable = true)\n",
      " |    |    |    |    |-- user_id: long (nullable = true)\n",
      " |    |    |    |    |-- width: long (nullable = true)\n",
      " |    |    |    |-- photos_list: array (nullable = true)\n",
      " |    |    |    |    |-- element: string (containsNull = true)\n",
      " |    |    |    |-- poll: struct (nullable = true)\n",
      " |    |    |    |    |-- anonymous: long (nullable = true)\n",
      " |    |    |    |    |-- answer_id: long (nullable = true)\n",
      " |    |    |    |    |-- answers: array (nullable = true)\n",
      " |    |    |    |    |    |-- element: struct (containsNull = true)\n",
      " |    |    |    |    |    |    |-- id: long (nullable = true)\n",
      " |    |    |    |    |    |    |-- rate: double (nullable = true)\n",
      " |    |    |    |    |    |    |-- text: string (nullable = true)\n",
      " |    |    |    |    |    |    |-- votes: long (nullable = true)\n",
      " |    |    |    |    |-- created: long (nullable = true)\n",
      " |    |    |    |    |-- id: long (nullable = true)\n",
      " |    |    |    |    |-- owner_id: long (nullable = true)\n",
      " |    |    |    |    |-- question: string (nullable = true)\n",
      " |    |    |    |    |-- votes: long (nullable = true)\n",
      " |    |    |    |-- type: string (nullable = true)\n",
      " |    |    |    |-- video: struct (nullable = true)\n",
      " |    |    |    |    |-- access_key: string (nullable = true)\n",
      " |    |    |    |    |-- album_id: long (nullable = true)\n",
      " |    |    |    |    |-- can_add: long (nullable = true)\n",
      " |    |    |    |    |-- can_edit: long (nullable = true)\n",
      " |    |    |    |    |-- comments: long (nullable = true)\n",
      " |    |    |    |    |-- content_restricted: long (nullable = true)\n",
      " |    |    |    |    |-- date: long (nullable = true)\n",
      " |    |    |    |    |-- description: string (nullable = true)\n",
      " |    |    |    |    |-- duration: long (nullable = true)\n",
      " |    |    |    |    |-- first_frame_130: string (nullable = true)\n",
      " |    |    |    |    |-- first_frame_160: string (nullable = true)\n",
      " |    |    |    |    |-- first_frame_320: string (nullable = true)\n",
      " |    |    |    |    |-- first_frame_800: string (nullable = true)\n",
      " |    |    |    |    |-- height: long (nullable = true)\n",
      " |    |    |    |    |-- id: long (nullable = true)\n",
      " |    |    |    |    |-- is_private: long (nullable = true)\n",
      " |    |    |    |    |-- live: long (nullable = true)\n",
      " |    |    |    |    |-- owner_id: long (nullable = true)\n",
      " |    |    |    |    |-- photo_130: string (nullable = true)\n",
      " |    |    |    |    |-- photo_320: string (nullable = true)\n",
      " |    |    |    |    |-- photo_640: string (nullable = true)\n",
      " |    |    |    |    |-- photo_800: string (nullable = true)\n",
      " |    |    |    |    |-- platform: string (nullable = true)\n",
      " |    |    |    |    |-- processing: long (nullable = true)\n",
      " |    |    |    |    |-- repeat: long (nullable = true)\n",
      " |    |    |    |    |-- spectators: long (nullable = true)\n",
      " |    |    |    |    |-- title: string (nullable = true)\n",
      " |    |    |    |    |-- upcoming: long (nullable = true)\n",
      " |    |    |    |    |-- user_id: long (nullable = true)\n",
      " |    |    |    |    |-- views: long (nullable = true)\n",
      " |    |    |    |    |-- width: long (nullable = true)\n",
      " |    |-- author: struct (nullable = true)\n",
      " |    |    |-- author_url: string (nullable = true)\n",
      " |    |    |-- id: long (nullable = true)\n",
      " |    |    |-- platform: long (nullable = true)\n",
      " |    |    |-- shared_post_author_id: long (nullable = true)\n",
      " |    |    |-- shared_post_author_url: string (nullable = true)\n",
      " |    |-- creation_time: long (nullable = true)\n",
      " |    |-- event_id: struct (nullable = true)\n",
      " |    |    |-- comment_id: long (nullable = true)\n",
      " |    |    |-- post_id: long (nullable = true)\n",
      " |    |    |-- post_owner_id: long (nullable = true)\n",
      " |    |    |-- shared_post_id: long (nullable = true)\n",
      " |    |    |-- shared_post_owner_id: long (nullable = true)\n",
      " |    |-- event_shared_url: string (nullable = true)\n",
      " |    |-- event_type: string (nullable = true)\n",
      " |    |-- event_url: string (nullable = true)\n",
      " |    |-- geo: struct (nullable = true)\n",
      " |    |    |-- coordinates: string (nullable = true)\n",
      " |    |    |-- place: struct (nullable = true)\n",
      " |    |    |    |-- address: string (nullable = true)\n",
      " |    |    |    |-- checkins: long (nullable = true)\n",
      " |    |    |    |-- city: string (nullable = true)\n",
      " |    |    |    |-- country: string (nullable = true)\n",
      " |    |    |    |-- created: long (nullable = true)\n",
      " |    |    |    |-- group_id: long (nullable = true)\n",
      " |    |    |    |-- group_photo: string (nullable = true)\n",
      " |    |    |    |-- icon: string (nullable = true)\n",
      " |    |    |    |-- id: long (nullable = true)\n",
      " |    |    |    |-- latitude: double (nullable = true)\n",
      " |    |    |    |-- longitude: double (nullable = true)\n",
      " |    |    |    |-- title: string (nullable = true)\n",
      " |    |    |    |-- type: long (nullable = true)\n",
      " |    |    |    |-- updated: long (nullable = true)\n",
      " |    |    |-- showmap: long (nullable = true)\n",
      " |    |    |-- type: string (nullable = true)\n",
      " |    |-- shared_post_creation_time: long (nullable = true)\n",
      " |    |-- shared_post_text: string (nullable = true)\n",
      " |    |-- signer_id: long (nullable = true)\n",
      " |    |-- tags: array (nullable = true)\n",
      " |    |    |-- element: string (containsNull = true)\n",
      " |    |-- text: string (nullable = true)\n",
      "\n"
     ]
    }
   ],
   "source": [
    "data.printSchema()"
   ]
  },
  {
   "cell_type": "markdown",
   "id": "d6c75803",
   "metadata": {},
   "source": [
    "The schema indicates each attribute with nullable=true which is not very informative since we can not know whether a field has missing values. The following instructions count the number of rows w/o missing values for some specific fields of interest."
   ]
  },
  {
   "cell_type": "code",
   "execution_count": 6,
   "id": "e2e198d0",
   "metadata": {},
   "outputs": [],
   "source": [
    "att_list = [\n",
    "    \"event\",\n",
    "    \"event.event_id\",\n",
    "    \"event.event_id.post_id\",\n",
    "    \"event.event_id.post_owner_id\",\n",
    "    \"event.event_id.comment_id\",\n",
    "    \"event.event_id.shared_post_id\",\n",
    "    \"event.author\",\n",
    "    \"event.attachments\",\n",
    "    \"event.geo\",\n",
    "    \"event.tags\",\n",
    "    \"event.creation_time\"\n",
    "]"
   ]
  },
  {
   "cell_type": "code",
   "execution_count": 24,
   "id": "00db1ec6",
   "metadata": {
    "scrolled": true
   },
   "outputs": [
    {
     "name": "stderr",
     "output_type": "stream",
     "text": [
      "\r",
      "[Stage 250:==================================================>    (11 + 1) / 12]\r",
      "\r",
      "                                                                                \r"
     ]
    },
    {
     "name": "stdout",
     "output_type": "stream",
     "text": [
      "count of event=30683\n",
      "count of event.event_id=30683\n",
      "count of event.event_id.post_id=30683\n",
      "count of event.event_id.post_owner_id=30683\n",
      "count of event.event_id.comment_id=16518\n"
     ]
    },
    {
     "name": "stderr",
     "output_type": "stream",
     "text": [
      "\r",
      "[Stage 280:=========>                                             (2 + 10) / 12]\r",
      "\r",
      "                                                                                \r"
     ]
    },
    {
     "name": "stdout",
     "output_type": "stream",
     "text": [
      "count of event.event_id.shared_post_id=638\n",
      "count of event.author=30683\n",
      "count of event.attachments=15944\n",
      "count of event.geo=22\n",
      "count of event.tags=30683\n",
      "count of event.creation_time=30683\n"
     ]
    }
   ],
   "source": [
    "for att in att_list:\n",
    "    print(\"count of %s=%s\"%(att, data.where(att+ \" is not null\").count()))"
   ]
  },
  {
   "cell_type": "markdown",
   "id": "1495b0e8",
   "metadata": {},
   "source": [
    "Check that `event.event_id.comment_id` is present only when `event.event_type='comment'`"
   ]
  },
  {
   "cell_type": "code",
   "execution_count": 8,
   "id": "604ea6a3",
   "metadata": {},
   "outputs": [
    {
     "data": {
      "text/plain": [
       "True"
      ]
     },
     "execution_count": 8,
     "metadata": {},
     "output_type": "execute_result"
    }
   ],
   "source": [
    "data.select(\"*\").where((data.event.event_id.comment_id.isNotNull()) & (data.event.event_type != 'comment')).count() == 0"
   ]
  },
  {
   "cell_type": "markdown",
   "id": "50b754ae",
   "metadata": {},
   "source": [
    "Check that `event.event_id.shared_post_id` is present only when `event.event_type='share'`"
   ]
  },
  {
   "cell_type": "code",
   "execution_count": 9,
   "id": "578db389",
   "metadata": {},
   "outputs": [
    {
     "data": {
      "text/plain": [
       "True"
      ]
     },
     "execution_count": 9,
     "metadata": {},
     "output_type": "execute_result"
    }
   ],
   "source": [
    "data.select(\"*\").where((data.event.event_id.shared_post_id.isNotNull()) & (data.event.event_type != 'share')).count() == 0"
   ]
  },
  {
   "cell_type": "markdown",
   "id": "70f73850",
   "metadata": {},
   "source": [
    "How many distinct post ids are there ?"
   ]
  },
  {
   "cell_type": "code",
   "execution_count": 10,
   "id": "0df6abb6",
   "metadata": {
    "scrolled": true
   },
   "outputs": [
    {
     "name": "stdout",
     "output_type": "stream",
     "text": [
      "+-----------------+\n",
      "|distinct post ids|\n",
      "+-----------------+\n",
      "|            21683|\n",
      "+-----------------+\n",
      "\n"
     ]
    },
    {
     "name": "stderr",
     "output_type": "stream",
     "text": [
      "\r",
      "[Stage 79:==============>                                          (3 + 9) / 12]\r",
      "\r",
      "                                                                                \r"
     ]
    }
   ],
   "source": [
    "from pyspark.sql.functions import count, countDistinct\n",
    "\n",
    "data.select(countDistinct(data.event.event_id.post_id).alias(\"distinct post ids\")).show()"
   ]
  },
  {
   "cell_type": "markdown",
   "id": "876bf717",
   "metadata": {},
   "source": [
    "How many distinct post_ids per event type "
   ]
  },
  {
   "cell_type": "code",
   "execution_count": 11,
   "id": "7e9beef0",
   "metadata": {},
   "outputs": [
    {
     "name": "stdout",
     "output_type": "stream",
     "text": [
      "+----------+-------------+\n",
      "|event_type|count_post_id|\n",
      "+----------+-------------+\n",
      "|      post|         8137|\n",
      "|     share|          544|\n",
      "|   comment|        14202|\n",
      "+----------+-------------+\n",
      "\n"
     ]
    }
   ],
   "source": [
    "data.groupBy(col(\"event.event_type\").alias(\"event_type\")).agg(countDistinct(data.event.event_id.post_id).alias(\"count_post_id\")).show()"
   ]
  },
  {
   "cell_type": "markdown",
   "id": "1a62c642",
   "metadata": {},
   "source": [
    "Flattening lists of tags\n",
    "\n",
    "In `data`, each object is associated with an array of tags accessed from `event.tags` (see the schema). Write an instruction to add a `tag` column containing a single tag obtained by flattening the `tags` array"
   ]
  },
  {
   "cell_type": "code",
   "execution_count": 12,
   "id": "05cf4f47",
   "metadata": {},
   "outputs": [
    {
     "name": "stderr",
     "output_type": "stream",
     "text": [
      "\r",
      "[Stage 91:===================>                                     (4 + 8) / 12]\r"
     ]
    },
    {
     "name": "stdout",
     "output_type": "stream",
     "text": [
      "+--------------------+----+--------------------+---------+\n",
      "|                 _id|code|               event|      tag|\n",
      "+--------------------+----+--------------------+---------+\n",
      "|{5a66276e7f254c35...| 100|{new, null, {http...| grudinin|\n",
      "|{5a6628c37f254c35...| 100|{new, [{null, nul...|    putin|\n",
      "|{5a66292b7f254c35...| 100|{new, [{null, nul...|    putin|\n",
      "|{5a66296f7f254c35...| 100|{new, null, {http...|    putin|\n",
      "|{5a6629907f254c35...| 100|{new, null, {http...|  sobchak|\n",
      "|{5a662a137f254c35...| 100|{new, [{null, nul...|    putin|\n",
      "|{5a662b387f254c35...| 100|{new, [{null, nul...| grudinin|\n",
      "|{5a662dadd81e7c3b...| 100|{new, [{null, nul...|    putin|\n",
      "|{5a662e03d81e7c3b...| 100|{new, null, {http...|    putin|\n",
      "|{5a662e5cd81e7c3b...| 100|{new, [{null, nul...|yavlinsky|\n",
      "|{5a662fe3d81e7c3b...| 100|{new, [{null, nul...| grudinin|\n",
      "|{5a662ff3d81e7c3b...| 100|{new, null, {http...| grudinin|\n",
      "|{5a6631c5d81e7c3b...| 100|{new, [{null, nul...|  navalny|\n",
      "|{5a663292d81e7c3b...| 100|{new, null, {http...| grudinin|\n",
      "|{5a663292d81e7c3b...| 100|{new, null, {http...|    putin|\n",
      "|{5a6632bad81e7c3b...| 100|{new, [{null, nul...|  navalny|\n",
      "|{5a663449d81e7c3b...| 100|{new, null, {http...|    putin|\n",
      "|{5a68c389713e4d08...| 100|{new, [{null, nul...| grudinin|\n",
      "|{5a68c389713e4d08...| 100|{new, [{null, nul...|    putin|\n",
      "|{5a68c4b0713e4d08...| 100|{new, null, {http...|    putin|\n",
      "+--------------------+----+--------------------+---------+\n",
      "only showing top 20 rows\n",
      "\n"
     ]
    },
    {
     "name": "stderr",
     "output_type": "stream",
     "text": [
      "\r",
      "                                                                                \r"
     ]
    }
   ],
   "source": [
    "data_with_tags = data.select(\"_id\", \"code\", \"event\", explode(data.event.tags).alias(\"tag\"))\n",
    "data_with_tags.show()"
   ]
  },
  {
   "cell_type": "markdown",
   "id": "8c8d5d18",
   "metadata": {},
   "source": [
    "Return the number of distinct post_id per tag. Sort in descending order of count"
   ]
  },
  {
   "cell_type": "code",
   "execution_count": 13,
   "id": "5e6d5297",
   "metadata": {},
   "outputs": [
    {
     "name": "stdout",
     "output_type": "stream",
     "text": [
      "+-----------+-----+\n",
      "|        tag|count|\n",
      "+-----------+-----+\n",
      "|      putin|14859|\n",
      "|   grudinin| 6222|\n",
      "|    navalny| 2616|\n",
      "|    sobchak| 2134|\n",
      "|zhirinovsky| 1231|\n",
      "|      titov|  577|\n",
      "|  yavlinsky|  361|\n",
      "+-----------+-----+\n",
      "\n"
     ]
    }
   ],
   "source": [
    "data_with_tags.groupBy(\"tag\").agg(countDistinct(\"event.event_id.post_id\").alias(\"count\")).orderBy(desc(\"count\")).show()"
   ]
  },
  {
   "cell_type": "markdown",
   "id": "829a45d6",
   "metadata": {},
   "source": [
    "Return the number of distinct author.id per tag. Sort in descending order of count"
   ]
  },
  {
   "cell_type": "code",
   "execution_count": 14,
   "id": "c67a9105",
   "metadata": {},
   "outputs": [
    {
     "name": "stdout",
     "output_type": "stream",
     "text": [
      "+-----------+-----+\n",
      "|        tag|count|\n",
      "+-----------+-----+\n",
      "|      putin|15673|\n",
      "|   grudinin| 6207|\n",
      "|    navalny| 2580|\n",
      "|    sobchak| 2288|\n",
      "|zhirinovsky| 1214|\n",
      "|      titov|  572|\n",
      "|  yavlinsky|  347|\n",
      "+-----------+-----+\n",
      "\n"
     ]
    },
    {
     "data": {
      "text/plain": [
       "DataFrame[name: string, count: bigint]"
      ]
     },
     "execution_count": 14,
     "metadata": {},
     "output_type": "execute_result"
    }
   ],
   "source": [
    "data_with_tags.groupBy(\"tag\").agg(countDistinct(\"event.author.id\").alias(\"count\")).orderBy(desc(\"count\")).show()\n",
    "\n",
    "data_author_id_tags = data_with_tags.groupBy(col(\"tag\").alias(\"name\")).agg(countDistinct(\"event.author.id\").alias(\"count\")).orderBy(desc(\"count\"))\n",
    "data_author_id_tags"
   ]
  },
  {
   "cell_type": "markdown",
   "id": "d66cad75",
   "metadata": {},
   "source": [
    "Fact checking using Wikipedia\n",
    "\n",
    "Observe that each tag corresponds to a candidate of the RU2018 Elections (Putin, Titov, etc). We would like to check the relationship between the count of tags per author and the number of votes associated to each candidate. We collet, from Wikipedia, the number of votes per candidates and make it available through the dataset `votes` defined as follows."
   ]
  },
  {
   "cell_type": "code",
   "execution_count": 15,
   "id": "50c849a1",
   "metadata": {},
   "outputs": [
    {
     "name": "stderr",
     "output_type": "stream",
     "text": [
      "\r",
      "[Stage 114:>                                                        (0 + 1) / 1]\r",
      "\r",
      "                                                                                \r"
     ]
    },
    {
     "name": "stdout",
     "output_type": "stream",
     "text": [
      "+-----------+------------------------+--------+\n",
      "|name       |party                   |votes   |\n",
      "+-----------+------------------------+--------+\n",
      "|putin      |Independent             |56430712|\n",
      "|grudinin   |Communist               |8659206 |\n",
      "|zhirinovsky|Liberal Democratic Party|4154985 |\n",
      "|sobchak    |Civic Initiative        |1238031 |\n",
      "|yavlinksky |Yabloko                 |769644  |\n",
      "|titov      |Party of Growth         |556801  |\n",
      "+-----------+------------------------+--------+\n",
      "\n"
     ]
    }
   ],
   "source": [
    "from pyspark.sql.types import *\n",
    "\n",
    "schema_votes = StructType([StructField(\"name\", StringType()),\\\n",
    "                           StructField(\"party\", StringType()),\\\n",
    "                           StructField(\"votes\", LongType())])\n",
    "\n",
    "raw_votes = [(\"putin\", \"Independent\", 56430712),\\\n",
    "             (\"grudinin\", \"Communist\", 8659206),\\\n",
    "             (\"zhirinovsky\", \"Liberal Democratic Party\", 4154985),\\\n",
    "             (\"sobchak\", \"Civic Initiative\", 1238031),\\\n",
    "             (\"yavlinksky\", \"Yabloko\", 769644),\\\n",
    "             (\"titov\", \"Party of Growth\", 556801)\\\n",
    "            ]\n",
    "\n",
    "votes = spark.createDataFrame(raw_votes, schema_votes)\n",
    "votes.show(truncate=False)"
   ]
  },
  {
   "cell_type": "markdown",
   "id": "af259f4f",
   "metadata": {},
   "source": [
    "Return for each candidate the number of its votes and the number of authors who tagged it."
   ]
  },
  {
   "cell_type": "code",
   "execution_count": 16,
   "id": "3032031d",
   "metadata": {},
   "outputs": [
    {
     "name": "stdout",
     "output_type": "stream",
     "text": [
      "+-----------+--------------------+--------+-----+\n",
      "|       name|               party|   votes|count|\n",
      "+-----------+--------------------+--------+-----+\n",
      "|      putin|         Independent|56430712|15673|\n",
      "|   grudinin|           Communist| 8659206| 6207|\n",
      "|zhirinovsky|Liberal Democrati...| 4154985| 1214|\n",
      "|    sobchak|    Civic Initiative| 1238031| 2288|\n",
      "|      titov|     Party of Growth|  556801|  572|\n",
      "+-----------+--------------------+--------+-----+\n",
      "\n"
     ]
    }
   ],
   "source": [
    "votes_count = votes.join(data_author_id_tags, \"name\").orderBy(desc(\"votes\"))\n",
    "votes_count.show()"
   ]
  },
  {
   "cell_type": "markdown",
   "id": "b4048146",
   "metadata": {},
   "source": [
    "Multidimensional aggregation\n",
    "\n",
    "We want to create a cude with three dimensions: `tag`, `event_type` and `month`. While the first two attributes are already available, the month column must be extracted from the `creation_time` attribute using a built-in function.\n",
    "\n",
    "Create a dataset `data_tag_mon` obtained by augmenting `data_with_tags` with an attribute`month` containing the month extracted from the `event.creation_time` attribute."
   ]
  },
  {
   "cell_type": "code",
   "execution_count": 17,
   "id": "9507dc05",
   "metadata": {},
   "outputs": [
    {
     "name": "stdout",
     "output_type": "stream",
     "text": [
      "+-----+\n",
      "|month|\n",
      "+-----+\n",
      "|    1|\n",
      "|    2|\n",
      "|    3|\n",
      "+-----+\n",
      "\n"
     ]
    },
    {
     "name": "stderr",
     "output_type": "stream",
     "text": [
      "\r",
      "[Stage 129:====>                                                  (1 + 11) / 12]\r",
      "\r",
      "                                                                                \r"
     ]
    }
   ],
   "source": [
    "from pyspark.sql.functions import from_unixtime\n",
    "from pyspark.sql.functions import month\n",
    "\n",
    "data_tag_mon = data.select(month(from_unixtime(\"event.creation_time\")).alias(\"month\"))\n",
    "data_tag_mon.select(\"month\").distinct().show()"
   ]
  },
  {
   "cell_type": "markdown",
   "id": "1f8aba74",
   "metadata": {},
   "source": [
    "For each combination of event_type, tag and month, count the number of distinct post_ids"
   ]
  },
  {
   "cell_type": "code",
   "execution_count": 18,
   "id": "54dd81bb",
   "metadata": {},
   "outputs": [
    {
     "name": "stderr",
     "output_type": "stream",
     "text": [
      "\r",
      "[Stage 132:>                                                      (0 + 12) / 12]\r",
      "\r",
      "[Stage 132:==================================================>    (11 + 1) / 12]\r"
     ]
    },
    {
     "name": "stdout",
     "output_type": "stream",
     "text": [
      "+----------+--------+-----+------------------+\n",
      "|event_type|     tag|month|count_dist_postids|\n",
      "+----------+--------+-----+------------------+\n",
      "|   comment|   putin|    2|              4194|\n",
      "|   comment|   putin|    3|              3543|\n",
      "|      post|   putin|    2|              2965|\n",
      "|      post|   putin|    3|              2954|\n",
      "|   comment|grudinin|    2|              2013|\n",
      "|   comment|grudinin|    3|              1484|\n",
      "|      post|grudinin|    2|              1409|\n",
      "|   comment|   putin|    1|              1387|\n",
      "|      post|grudinin|    3|              1206|\n",
      "|      post|   putin|    1|              1101|\n",
      "|   comment| navalny|    2|               780|\n",
      "|   comment| sobchak|    3|               538|\n",
      "|      post| sobchak|    2|               502|\n",
      "|   comment| navalny|    1|               474|\n",
      "|      post| navalny|    2|               461|\n",
      "|   comment|grudinin|    1|               441|\n",
      "|   comment| sobchak|    2|               437|\n",
      "|      post| sobchak|    3|               426|\n",
      "|   comment| navalny|    3|               415|\n",
      "|      post|grudinin|    1|               372|\n",
      "+----------+--------+-----+------------------+\n",
      "only showing top 20 rows\n",
      "\n"
     ]
    },
    {
     "name": "stderr",
     "output_type": "stream",
     "text": [
      "\r",
      "                                                                                \r"
     ]
    }
   ],
   "source": [
    "tag_event_month = data.select(\"event.event_type\",\\\n",
    "                              explode(\"event.tags\").alias(\"tag\"),\\\n",
    "                              month(from_unixtime(\"event.creation_time\")).alias(\"month\"),\\\n",
    "                              \"event.event_id.post_id\")\\\n",
    "                      .groupBy(\"event_type\", \"tag\", \"month\").agg(countDistinct(\"post_id\").alias(\"count_dist_postids\"))\n",
    "\n",
    "tag_event_month.orderBy(desc(\"count_dist_postids\")).show()"
   ]
  },
  {
   "cell_type": "markdown",
   "id": "94c059aa",
   "metadata": {},
   "source": [
    "Using the tag_event_month table, create a pivot table by reducing the dimensions to month and event type."
   ]
  },
  {
   "cell_type": "code",
   "execution_count": 21,
   "id": "d9600c5e",
   "metadata": {},
   "outputs": [
    {
     "name": "stderr",
     "output_type": "stream",
     "text": [
      "                                                                                \r"
     ]
    },
    {
     "name": "stdout",
     "output_type": "stream",
     "text": [
      "root\n",
      " |-- month: integer (nullable = true)\n",
      " |-- comment: long (nullable = true)\n",
      " |-- post: long (nullable = true)\n",
      " |-- share: long (nullable = true)\n",
      "\n",
      "+-----+-------+----+-----+\n",
      "|month|comment|post|share|\n",
      "+-----+-------+----+-----+\n",
      "|    2|   7878|5863|  373|\n",
      "|    1|   2559|1983|   99|\n",
      "|    3|   6424|5330|  207|\n",
      "+-----+-------+----+-----+\n",
      "\n"
     ]
    }
   ],
   "source": [
    "month_event_type = tag_event_month.groupBy(\"month\")\\\n",
    "                                  .pivot(\"event_type\")\\\n",
    "                                  .sum()\\\n",
    "                                  .select(\"month\",\\\n",
    "                                          col(\"comment_sum(count_dist_postids)\").alias(\"comment\"),\\\n",
    "                                          col(\"post_sum(count_dist_postids)\").alias(\"post\"),\\\n",
    "                                          col(\"share_sum(count_dist_postids)\").alias(\"share\"))\n",
    "\n",
    "month_event_type.printSchema()\n",
    "month_event_type.show()"
   ]
  },
  {
   "cell_type": "markdown",
   "id": "48eccc6f",
   "metadata": {},
   "source": [
    "create a dataframe indicating for each pair of distinct tags the author that uses both of them"
   ]
  },
  {
   "cell_type": "code",
   "execution_count": 22,
   "id": "b2edfe8c",
   "metadata": {},
   "outputs": [
    {
     "name": "stdout",
     "output_type": "stream",
     "text": [
      "+----------+-----------+-----------+\n",
      "|  authorID|   otherTag|        tag|\n",
      "+----------+-----------+-----------+\n",
      "|-163732739|    navalny|      putin|\n",
      "|-163732739|    navalny|    sobchak|\n",
      "|-163732739|      putin|    navalny|\n",
      "|-163732739|      putin|    sobchak|\n",
      "|-163732739|    sobchak|    navalny|\n",
      "|-163732739|    sobchak|      putin|\n",
      "|-163685747|   grudinin|      putin|\n",
      "|-163685747|   grudinin|    sobchak|\n",
      "|-163685747|      putin|   grudinin|\n",
      "|-163685747|      putin|    sobchak|\n",
      "|-163685747|    sobchak|   grudinin|\n",
      "|-163685747|    sobchak|      putin|\n",
      "|-163455107|    navalny|      putin|\n",
      "|-163455107|      putin|    navalny|\n",
      "|-163409699|  yavlinsky|zhirinovsky|\n",
      "|-163409699|zhirinovsky|  yavlinsky|\n",
      "|-163370734|      putin|    sobchak|\n",
      "|-163370734|    sobchak|      putin|\n",
      "|-163322498|   grudinin|      putin|\n",
      "|-163322498|   grudinin|    sobchak|\n",
      "+----------+-----------+-----------+\n",
      "only showing top 20 rows\n",
      "\n"
     ]
    }
   ],
   "source": [
    "data_with_tags = data.select(col(\"event.author.id\").alias(\"authorID\"), explode(\"event.tags\").alias(\"otherTag\")).crossJoin(data.select(col(\"event.author.id\").alias(\"authorID2\"), explode(\"event.tags\").alias(\"tag\")))\n",
    "\n",
    "tag_co_occur = data_with_tags.where((col(\"authorID\") == col(\"authorID2\")) & (col(\"tag\") != col(\"otherTag\"))).select(\"authorID\", \"otherTag\", \"tag\")\n",
    "tag_co_occur.show()"
   ]
  },
  {
   "cell_type": "markdown",
   "id": "51946aa4",
   "metadata": {},
   "source": [
    "Build the tag co-occurence matrix indicating for each pair of tags the number of authors that use them"
   ]
  },
  {
   "cell_type": "code",
   "execution_count": 23,
   "id": "c4622ae3",
   "metadata": {},
   "outputs": [
    {
     "name": "stderr",
     "output_type": "stream",
     "text": [
      "                                                                                \r"
     ]
    },
    {
     "name": "stdout",
     "output_type": "stream",
     "text": [
      "+-----------+--------+-------+-----+-------+-----+---------+-----------+\n",
      "|        tag|grudinin|navalny|putin|sobchak|titov|yavlinsky|zhirinovsky|\n",
      "+-----------+--------+-------+-----+-------+-----+---------+-----------+\n",
      "|  yavlinsky|     210|     60|  355|    199|   94|     null|        145|\n",
      "|      titov|     140|     21|  246|    111| null|       94|         90|\n",
      "|zhirinovsky|     714|     90|  901|    439|   90|      145|       null|\n",
      "|    navalny|    1113|   null| 1806|    300|   21|       60|         90|\n",
      "|      putin|    7267|   1806| null|   1299|  246|      355|        901|\n",
      "|   grudinin|    null|   1113| 7267|    722|  140|      210|        714|\n",
      "|    sobchak|     722|    300| 1299|   null|  111|      199|        439|\n",
      "+-----------+--------+-------+-----+-------+-----+---------+-----------+\n",
      "\n"
     ]
    }
   ],
   "source": [
    "co_occur_mat = tag_co_occur.groupBy(\"tag\").pivot(\"otherTag\").count()\n",
    "co_occur_mat.show()"
   ]
  }
 ],
 "metadata": {
  "kernelspec": {
   "display_name": "Python 3 (ipykernel)",
   "language": "python",
   "name": "python3"
  },
  "language_info": {
   "codemirror_mode": {
    "name": "ipython",
    "version": 3
   },
   "file_extension": ".py",
   "mimetype": "text/x-python",
   "name": "python",
   "nbconvert_exporter": "python",
   "pygments_lexer": "ipython3",
   "version": "3.10.4"
  }
 },
 "nbformat": 4,
 "nbformat_minor": 5
}
